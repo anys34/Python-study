{
 "cells": [
  {
   "cell_type": "code",
   "execution_count": 2,
   "metadata": {
    "ExecuteTime": {
     "end_time": "2023-07-25T15:27:28.949378Z",
     "start_time": "2023-07-25T15:27:28.930776Z"
    }
   },
   "outputs": [
    {
     "ename": "ModuleNotFoundError",
     "evalue": "No module named 'cv2'",
     "output_type": "error",
     "traceback": [
      "\u001B[0;31m---------------------------------------------------------------------------\u001B[0m",
      "\u001B[0;31mModuleNotFoundError\u001B[0m                       Traceback (most recent call last)",
      "Cell \u001B[0;32mIn[2], line 1\u001B[0m\n\u001B[0;32m----> 1\u001B[0m \u001B[38;5;28;01mimport\u001B[39;00m \u001B[38;5;21;01mcv2\u001B[39;00m\n\u001B[1;32m      2\u001B[0m \u001B[38;5;28;01mimport\u001B[39;00m \u001B[38;5;21;01mnumpy\u001B[39;00m \u001B[38;5;28;01mas\u001B[39;00m \u001B[38;5;21;01mnp\u001B[39;00m\n\u001B[1;32m      3\u001B[0m \u001B[38;5;28;01mimport\u001B[39;00m \u001B[38;5;21;01mmatplotlib\u001B[39;00m\u001B[38;5;21;01m.\u001B[39;00m\u001B[38;5;21;01mpyplot\u001B[39;00m \u001B[38;5;28;01mas\u001B[39;00m \u001B[38;5;21;01mplt\u001B[39;00m\n",
      "\u001B[0;31mModuleNotFoundError\u001B[0m: No module named 'cv2'"
     ]
    }
   ],
   "source": [
    "import cv2\n",
    "import numpy as np\n",
    "import matplotlib.pyplot as plt\n",
    "import pytesseract\n",
    "plt.style.use('dark_background')"
   ]
  },
  {
   "cell_type": "code",
   "execution_count": null,
   "metadata": {},
   "outputs": [],
   "source": [
    "img_ori = cv2.imread('1.jpg')\n",
    "gray = cv2.cvtColor(img_ori, cv2.COLOR_BGR2GRAY)\n",
    "\n",
    "height, width, channel = img_ori.shape\n",
    "\n",
    "plt.figure(figsize=(12, 10))\n",
    "plt.imshow(gray, cmap='gray')"
   ]
  },
  {
   "cell_type": "markdown",
   "metadata": {},
   "source": [
    "# Gaussian Blur and Adative Thresholding"
   ]
  },
  {
   "cell_type": "code",
   "execution_count": null,
   "metadata": {},
   "outputs": [],
   "source": [
    "# threshold only\n",
    "img_thresh = cv2.adaptiveThreshold(\n",
    "    gray, \n",
    "    maxValue=255.0, \n",
    "    adaptiveMethod=cv2.ADAPTIVE_THRESH_GAUSSIAN_C, \n",
    "    thresholdType=cv2.THRESH_BINARY_INV, \n",
    "    blockSize=19, \n",
    "    C=9\n",
    ")\n",
    "\n",
    "# blur and threshold\n",
    "img_blurred = cv2.GaussianBlur(gray, ksize=(5, 5), sigmaX=0)\n",
    "\n",
    "img_blur_thresh = cv2.adaptiveThreshold(\n",
    "    img_blurred, \n",
    "    maxValue=255.0, \n",
    "    adaptiveMethod=cv2.ADAPTIVE_THRESH_GAUSSIAN_C, \n",
    "    thresholdType=cv2.THRESH_BINARY_INV, \n",
    "    blockSize=19, \n",
    "    C=9\n",
    ")\n",
    "\n",
    "plt.figure(figsize=(20, 20))\n",
    "plt.subplot(1, 2, 1)\n",
    "plt.title('Threshold only')\n",
    "plt.imshow(img_thresh, cmap='gray')\n",
    "plt.subplot(1, 2, 2)\n",
    "plt.title('Blur and Threshold')\n",
    "plt.imshow(img_blur_thresh, cmap='gray')"
   ]
  },
  {
   "cell_type": "code",
   "execution_count": null,
   "metadata": {},
   "outputs": [],
   "source": [
    "plate_cx, plate_cy = 508.75, 300.5\n",
    "width, height = 940, 626 \n",
    "plate_width, plate_height = 188.5, 49\n",
    "angle = 11.9565\n",
    "\n",
    "rotation_matrix = cv2.getRotationMatrix2D(center=(plate_cx, plate_cy), angle=angle, scale=1.0)\n",
    "img_rotated = cv2.warpAffine(img_thresh, M=rotation_matrix, dsize=(width, height))\n",
    "\n",
    "plt.figure(figsize=(20, 20))\n",
    "plt.subplot(1, 2, 1)\n",
    "plt.title('Threshold')\n",
    "plt.imshow(img_blur_thresh, cmap='gray')\n",
    "plt.subplot(1, 2, 2)\n",
    "plt.title('Rotated')\n",
    "plt.imshow(img_rotated, cmap='gray')"
   ]
  },
  {
   "cell_type": "code",
   "execution_count": null,
   "metadata": {},
   "outputs": [],
   "source": [
    "img_cropped = cv2.getRectSubPix(\n",
    "    img_rotated, \n",
    "    patchSize=(int(plate_width), int(plate_height)), \n",
    "    center=(int(plate_cx), int(plate_cy))\n",
    ")\n",
    "\n",
    "plt.imshow(img_cropped, cmap='gray')"
   ]
  },
  {
   "cell_type": "code",
   "execution_count": null,
   "metadata": {},
   "outputs": [],
   "source": []
  }
 ],
 "metadata": {
  "kernelspec": {
   "name": "python3",
   "language": "python",
   "display_name": "Python 3 (ipykernel)"
  },
  "language_info": {
   "codemirror_mode": {
    "name": "ipython",
    "version": 3
   },
   "file_extension": ".py",
   "mimetype": "text/x-python",
   "name": "python",
   "nbconvert_exporter": "python",
   "pygments_lexer": "ipython3",
   "version": "3.6.7"
  }
 },
 "nbformat": 4,
 "nbformat_minor": 2
}
